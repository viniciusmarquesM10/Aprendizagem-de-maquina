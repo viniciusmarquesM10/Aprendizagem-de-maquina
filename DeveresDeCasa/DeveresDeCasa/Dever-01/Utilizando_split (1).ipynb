{
  "nbformat": 4,
  "nbformat_minor": 0,
  "metadata": {
    "colab": {
      "provenance": []
    },
    "kernelspec": {
      "name": "python3",
      "display_name": "Python 3"
    },
    "language_info": {
      "name": "python"
    }
  },
  "cells": [
    {
      "cell_type": "code",
      "execution_count": 1,
      "metadata": {
        "colab": {
          "base_uri": "https://localhost:8080/"
        },
        "id": "zck4gQVknMCH",
        "outputId": "229b5543-702f-49f3-9ca0-97bc6188116e"
      },
      "outputs": [
        {
          "output_type": "stream",
          "name": "stdout",
          "text": [
            "Digite uma frase: Eu estou aprendendo Python\n",
            "\n",
            "Número de caracteres: 26\n",
            "Número de palavras: 4\n",
            "Palavra com maior comprimento: aprendendo\n",
            "Frase invertida (por caracteres): nohtyP odnednerpa uotse uE\n",
            "Frase invertida (por palavras): Python aprendendo estou Eu\n",
            "Frase em maiúsculas: EU ESTOU APRENDENDO PYTHON\n",
            "Frase em minúsculas: eu estou aprendendo python\n",
            "Tupla de palavras: ('Eu', 'estou', 'aprendendo', 'Python')\n"
          ]
        }
      ],
      "source": [
        "def verificar_entrada(frase):\n",
        "    if not frase.strip():\n",
        "        raise ValueError(\"A entrada não pode estar vazia.\")\n",
        "\n",
        "def contar_caracteres(frase):\n",
        "    return len(frase)\n",
        "\n",
        "def contar_palavras(frase):\n",
        "    palavras = frase.split()\n",
        "    return len(palavras)\n",
        "\n",
        "def maior_palavra(frase):\n",
        "    palavras = frase.split()\n",
        "    return max(palavras, key=len)\n",
        "\n",
        "def inverter_frase_caracteres(frase):\n",
        "    return frase[::-1]\n",
        "\n",
        "def inverter_frase_palavras(frase):\n",
        "    palavras = frase.split()\n",
        "    return ' '.join(palavras[::-1])\n",
        "\n",
        "def converter_maiusculas(frase):\n",
        "    return frase.upper()\n",
        "\n",
        "def converter_minusculas(frase):\n",
        "    return frase.lower()\n",
        "\n",
        "def criar_tupla_palavras(frase):\n",
        "    return tuple(frase.split())\n",
        "\n",
        "def main():\n",
        "    frase = input(\"Digite uma frase: \")\n",
        "\n",
        "    try:\n",
        "        verificar_entrada(frase)\n",
        "    except ValueError as e:\n",
        "        print(e)\n",
        "        return\n",
        "\n",
        "    num_caracteres = contar_caracteres(frase)\n",
        "    num_palavras = contar_palavras(frase)\n",
        "    palavra_maior = maior_palavra(frase)\n",
        "\n",
        "    frase_invertida_caracteres = inverter_frase_caracteres(frase)\n",
        "    frase_invertida_palavras = inverter_frase_palavras(frase)\n",
        "    frase_maiusculas = converter_maiusculas(frase)\n",
        "    frase_minusculas = converter_minusculas(frase)\n",
        "    tupla_palavras = criar_tupla_palavras(frase)\n",
        "\n",
        "    print(f\"\\nNúmero de caracteres: {num_caracteres}\")\n",
        "    print(f\"Número de palavras: {num_palavras}\")\n",
        "    print(f\"Palavra com maior comprimento: {palavra_maior}\")\n",
        "    print(f\"Frase invertida (por caracteres): {frase_invertida_caracteres}\")\n",
        "    print(f\"Frase invertida (por palavras): {frase_invertida_palavras}\")\n",
        "    print(f\"Frase em maiúsculas: {frase_maiusculas}\")\n",
        "    print(f\"Frase em minúsculas: {frase_minusculas}\")\n",
        "    print(f\"Tupla de palavras: {tupla_palavras}\")\n",
        "\n",
        "if __name__ == \"__main__\":\n",
        "    main()"
      ]
    }
  ]
}