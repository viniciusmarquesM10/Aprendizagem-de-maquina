{
  "nbformat": 4,
  "nbformat_minor": 0,
  "metadata": {
    "colab": {
      "provenance": []
    },
    "kernelspec": {
      "name": "python3",
      "display_name": "Python 3"
    },
    "language_info": {
      "name": "python"
    }
  },
  "cells": [
    {
      "cell_type": "code",
      "execution_count": null,
      "metadata": {
        "id": "ZLER1Ist5Y82"
      },
      "outputs": [],
      "source": [
        "import pandas as pd\n",
        "\n",
        "\n",
        "data = {\n",
        "    \"nome\": [\"Pablo Coelho\", \"Mariana Ferreira\", \"Carlos Souza\", \"Ana Pereira\", \"João Lima\"],\n",
        "    \"dataNasc\": [\"01/26/1974\", \"26/04/1995\", \"15/07/1980\", \"10/11/1992\", \"12/03/1985\"],\n",
        "    \"dataCadastrado\": [\"2025/02/17\", \"2025/02/17\", \"2025/02/17\", \"2025/02/17\", \"2025/02/17\"],\n",
        "    \"horaCadastro\": [\"20:30\", \"20:31\", \"20:32\", \"20:33\", \"20:34\"]\n",
        "}\n",
        "\n",
        "df = pd.DataFrame(data)\n",
        "\n",
        "df.to_csv('/content/usuarios.csv', index=False)\n",
        "\n",
        "df = pd.read_csv('/content/usurarios.csv')\n",
        "\n",
        "df\n",
        "\n",
        "def formatar_data(data):\n",
        "  partes = data.split(\"/\")\n",
        "  return f\"{partes[0]}/{partes[1]}/{partes[2]}\"\n",
        "\n",
        "  registro = int(input(\"Informe o número do registro\"))\n",
        "  if registro <= len(df) and registro > 0:\n",
        "    registro_info = df.iloc[registro - 1]\n",
        "\n",
        "    data_nasc = formatar_data(registro_info['dataNasc'])\n",
        "    data_cadastro = formatar_data(registro_info['dataCadastrado'])\n",
        "\n",
        "    print(f\"Registro {registro}: Nome: {registro_info['nome']}; Data de nascimento: {data_nasc}; Data de cadastro: {data_cadastro} às {registro_info['horaCadastro']} horas\")\n",
        "else:\n",
        "    print(\"Registro inválido!\")\n",
        "\n",
        "    Registro 1: Nome: Pablo Coelho; Data de nascimento: 26/01/1974; Data de cadastro: 17/02/2025 às 20:30 horas\n",
        "\n",
        "    Registro inválido!\n",
        "\n",
        ""
      ]
    }
  ]
}
